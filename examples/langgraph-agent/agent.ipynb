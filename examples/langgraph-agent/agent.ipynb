{
 "cells": [
  {
   "cell_type": "markdown",
   "metadata": {},
   "source": [
    "# Build a ShoeBot Sales Agent using LangGraph and Graphiti\n",
    "\n",
    "The following example demonstrates building an agent using LangGraph. Graphiti is used to personalize agent responses based on information learned from prior conversations. Additionally, a database of products is loaded into the Graphiti graph, enabling the agent to speak to these products.\n",
    "\n",
    "The agent implements:\n",
    "- persistance of new chat turns to Graphiti and recall of relevant Facts using the most recent message.\n",
    "- a tool for querying Graphiti for shoe information\n",
    "- an in-memory MemorySaver to maintain agent state.\n",
    "\n",
    "## Install dependencies\n",
    "```shell\n",
    "pip install graphiti-core langchain-openai langgraph ipywidgets\n",
    "```\n",
    "\n",
    "Ensure that you've followed the Graphiti installation instructions. In particular, installation of `neo4j`."
   ]
  },
  {
   "cell_type": "code",
   "execution_count": 1,
   "metadata": {},
   "outputs": [
    {
     "data": {
      "text/plain": [
       "True"
      ]
     },
     "execution_count": 1,
     "metadata": {},
     "output_type": "execute_result"
    }
   ],
   "source": [
    "import asyncio\n",
    "import json\n",
    "import logging\n",
    "import os\n",
    "import sys\n",
    "import uuid\n",
    "from contextlib import suppress\n",
    "from datetime import datetime\n",
    "from pathlib import Path\n",
    "from typing import Annotated\n",
    "\n",
    "import ipywidgets as widgets\n",
    "from dotenv import load_dotenv\n",
    "from IPython.display import Image, display\n",
    "from typing_extensions import TypedDict\n",
    "\n",
    "load_dotenv()"
   ]
  },
  {
   "cell_type": "code",
   "execution_count": 2,
   "metadata": {},
   "outputs": [],
   "source": [
    "def setup_logging():\n",
    "    logger = logging.getLogger()\n",
    "    logger.setLevel(logging.INFO)\n",
    "    console_handler = logging.StreamHandler(sys.stdout)\n",
    "    console_handler.setLevel(logging.INFO)\n",
    "    formatter = logging.Formatter('%(name)s - %(levelname)s - %(message)s')\n",
    "    console_handler.setFormatter(formatter)\n",
    "    logger.addHandler(console_handler)\n",
    "    return logger\n",
    "\n",
    "\n",
    "logger = setup_logging()"
   ]
  },
  {
   "cell_type": "markdown",
   "metadata": {},
   "source": [
    "## LangSmith integration (Optional)\n",
    "\n",
    "If you'd like to trace your agent using LangSmith, ensure that you have a `LANGSMITH_API_KEY` set in your environment.\n",
    "\n",
    "Then set `os.environ['LANGCHAIN_TRACING_V2'] = 'false'` to `true`.\n"
   ]
  },
  {
   "cell_type": "code",
   "execution_count": 3,
   "metadata": {},
   "outputs": [],
   "source": [
    "os.environ['LANGCHAIN_TRACING_V2'] = 'true'\n",
    "os.environ['LANGCHAIN_PROJECT'] = 'Graphiti LangGraph Tutorial'"
   ]
  },
  {
   "cell_type": "markdown",
   "metadata": {},
   "source": [
    "## Configure Graphiti\n",
    "\n",
    "Ensure that you have `neo4j` running and a database created. Ensure that you've configured the following in your environment.\n",
    "\n",
    "```bash\n",
    "NEO4J_URI=\n",
    "NEO4J_USER=\n",
    "NEO4J_PASSWORD=\n",
    "```"
   ]
  },
  {
   "cell_type": "code",
   "execution_count": 4,
   "metadata": {},
   "outputs": [],
   "source": [
    "# Configure Graphiti\n",
    "\n",
    "from graphiti_core import Graphiti\n",
    "from graphiti_core.edges import EntityEdge\n",
    "from graphiti_core.nodes import EpisodeType\n",
    "from graphiti_core.utils.bulk_utils import RawEpisode\n",
    "from graphiti_core.utils.maintenance.graph_data_operations import clear_data\n",
    "\n",
    "neo4j_uri = os.environ.get('NEO4J_URI', 'bolt://localhost:7687')\n",
    "neo4j_user = os.environ.get('NEO4J_USER', 'neo4j')\n",
    "neo4j_password = os.environ.get('NEO4J_PASSWORD', 'password')\n",
    "\n",
    "client = Graphiti(\n",
    "    neo4j_uri,\n",
    "    neo4j_user,\n",
    "    neo4j_password,\n",
    ")"
   ]
  },
  {
   "cell_type": "markdown",
   "metadata": {},
   "source": [
    "## Generating a database schema \n",
    "\n",
    "The following is only required for the first run of this notebook or when you'd like to start your database over.\n",
    "\n",
    "**IMPORTANT**: `clear_data` is destructive and will wipe your entire database."
   ]
  },
  {
   "cell_type": "code",
   "execution_count": 5,
   "metadata": {},
   "outputs": [
    {
     "name": "stdout",
     "output_type": "stream",
     "text": [
      "neo4j.notifications - INFO - Received notification from DBMS server: {severity: INFORMATION} {code: Neo.ClientNotification.Schema.IndexOrConstraintAlreadyExists} {category: SCHEMA} {title: `CREATE RANGE INDEX entity_uuid IF NOT EXISTS FOR (e:Entity) ON (e.uuid)` has no effect.} {description: `RANGE INDEX entity_uuid FOR (e:Entity) ON (e.uuid)` already exists.} {position: None} for query: 'CREATE INDEX entity_uuid IF NOT EXISTS FOR (n:Entity) ON (n.uuid)'\n",
      "neo4j.notifications - INFO - Received notification from DBMS server: {severity: INFORMATION} {code: Neo.ClientNotification.Schema.IndexOrConstraintAlreadyExists} {category: SCHEMA} {title: `CREATE RANGE INDEX relation_uuid IF NOT EXISTS FOR ()-[e:RELATES_TO]-() ON (e.uuid)` has no effect.} {description: `RANGE INDEX relation_uuid FOR ()-[e:RELATES_TO]-() ON (e.uuid)` already exists.} {position: None} for query: 'CREATE INDEX relation_uuid IF NOT EXISTS FOR ()-[e:RELATES_TO]-() ON (e.uuid)'\n",
      "neo4j.notifications - INFO - Received notification from DBMS server: {severity: INFORMATION} {code: Neo.ClientNotification.Schema.IndexOrConstraintAlreadyExists} {category: SCHEMA} {title: `CREATE RANGE INDEX name_entity_index IF NOT EXISTS FOR (e:Entity) ON (e.name)` has no effect.} {description: `RANGE INDEX name_entity_index FOR (e:Entity) ON (e.name)` already exists.} {position: None} for query: 'CREATE INDEX name_entity_index IF NOT EXISTS FOR (n:Entity) ON (n.name)'\n",
      "neo4j.notifications - INFO - Received notification from DBMS server: {severity: INFORMATION} {code: Neo.ClientNotification.Schema.IndexOrConstraintAlreadyExists} {category: SCHEMA} {title: `CREATE RANGE INDEX created_at_episodic_index IF NOT EXISTS FOR (e:Episodic) ON (e.created_at)` has no effect.} {description: `RANGE INDEX created_at_episodic_index FOR (e:Episodic) ON (e.created_at)` already exists.} {position: None} for query: 'CREATE INDEX created_at_episodic_index IF NOT EXISTS FOR (n:Episodic) ON (n.created_at)'\n",
      "neo4j.notifications - INFO - Received notification from DBMS server: {severity: INFORMATION} {code: Neo.ClientNotification.Schema.IndexOrConstraintAlreadyExists} {category: SCHEMA} {title: `CREATE RANGE INDEX episode_uuid IF NOT EXISTS FOR (e:Episodic) ON (e.uuid)` has no effect.} {description: `RANGE INDEX episode_uuid FOR (e:Episodic) ON (e.uuid)` already exists.} {position: None} for query: 'CREATE INDEX episode_uuid IF NOT EXISTS FOR (n:Episodic) ON (n.uuid)'\n",
      "neo4j.notifications - INFO - Received notification from DBMS server: {severity: INFORMATION} {code: Neo.ClientNotification.Schema.IndexOrConstraintAlreadyExists} {category: SCHEMA} {title: `CREATE RANGE INDEX created_at_entity_index IF NOT EXISTS FOR (e:Entity) ON (e.created_at)` has no effect.} {description: `RANGE INDEX created_at_entity_index FOR (e:Entity) ON (e.created_at)` already exists.} {position: None} for query: 'CREATE INDEX created_at_entity_index IF NOT EXISTS FOR (n:Entity) ON (n.created_at)'\n",
      "neo4j.notifications - INFO - Received notification from DBMS server: {severity: INFORMATION} {code: Neo.ClientNotification.Schema.IndexOrConstraintAlreadyExists} {category: SCHEMA} {title: `CREATE RANGE INDEX expired_at_edge_index IF NOT EXISTS FOR ()-[e:RELATES_TO]-() ON (e.expired_at)` has no effect.} {description: `RANGE INDEX expired_at_edge_index FOR ()-[e:RELATES_TO]-() ON (e.expired_at)` already exists.} {position: None} for query: 'CREATE INDEX expired_at_edge_index IF NOT EXISTS FOR ()-[e:RELATES_TO]-() ON (e.expired_at)'\n",
      "neo4j.notifications - INFO - Received notification from DBMS server: {severity: INFORMATION} {code: Neo.ClientNotification.Schema.IndexOrConstraintAlreadyExists} {category: SCHEMA} {title: `CREATE VECTOR INDEX fact_embedding IF NOT EXISTS FOR ()-[e:RELATES_TO]-() ON (e.fact_embedding) OPTIONS {indexConfig: {`vector.dimensions`: 1024, `vector.similarity_function`: \"cosine\"}}` has no effect.} {description: `VECTOR INDEX fact_embedding FOR ()-[e:RELATES_TO]-() ON (e.fact_embedding)` already exists.} {position: None} for query: \"\\n        CREATE VECTOR INDEX fact_embedding IF NOT EXISTS\\n        FOR ()-[r:RELATES_TO]-() ON (r.fact_embedding)\\n        OPTIONS {indexConfig: {\\n         `vector.dimensions`: 1024,\\n         `vector.similarity_function`: 'cosine'\\n        }}\\n        \"\n",
      "neo4j.notifications - INFO - Received notification from DBMS server: {severity: INFORMATION} {code: Neo.ClientNotification.Schema.IndexOrConstraintAlreadyExists} {category: SCHEMA} {title: `CREATE RANGE INDEX valid_at_episodic_index IF NOT EXISTS FOR (e:Episodic) ON (e.valid_at)` has no effect.} {description: `RANGE INDEX valid_at_episodic_index FOR (e:Episodic) ON (e.valid_at)` already exists.} {position: None} for query: 'CREATE INDEX valid_at_episodic_index IF NOT EXISTS FOR (n:Episodic) ON (n.valid_at)'\n",
      "neo4j.notifications - INFO - Received notification from DBMS server: {severity: INFORMATION} {code: Neo.ClientNotification.Schema.IndexOrConstraintAlreadyExists} {category: SCHEMA} {title: `CREATE RANGE INDEX created_at_edge_index IF NOT EXISTS FOR ()-[e:RELATES_TO]-() ON (e.created_at)` has no effect.} {description: `RANGE INDEX created_at_edge_index FOR ()-[e:RELATES_TO]-() ON (e.created_at)` already exists.} {position: None} for query: 'CREATE INDEX created_at_edge_index IF NOT EXISTS FOR ()-[e:RELATES_TO]-() ON (e.created_at)'\n",
      "neo4j.notifications - INFO - Received notification from DBMS server: {severity: INFORMATION} {code: Neo.ClientNotification.Schema.IndexOrConstraintAlreadyExists} {category: SCHEMA} {title: `CREATE RANGE INDEX valid_at_edge_index IF NOT EXISTS FOR ()-[e:RELATES_TO]-() ON (e.valid_at)` has no effect.} {description: `RANGE INDEX valid_at_edge_index FOR ()-[e:RELATES_TO]-() ON (e.valid_at)` already exists.} {position: None} for query: 'CREATE INDEX valid_at_edge_index IF NOT EXISTS FOR ()-[e:RELATES_TO]-() ON (e.valid_at)'\n",
      "neo4j.notifications - INFO - Received notification from DBMS server: {severity: INFORMATION} {code: Neo.ClientNotification.Schema.IndexOrConstraintAlreadyExists} {category: SCHEMA} {title: `CREATE VECTOR INDEX name_embedding IF NOT EXISTS FOR (e:Entity) ON (e.name_embedding) OPTIONS {indexConfig: {`vector.dimensions`: 1024, `vector.similarity_function`: \"cosine\"}}` has no effect.} {description: `VECTOR INDEX name_embedding FOR (e:Entity) ON (e.name_embedding)` already exists.} {position: None} for query: \"\\n        CREATE VECTOR INDEX name_embedding IF NOT EXISTS\\n        FOR (n:Entity) ON (n.name_embedding)\\n        OPTIONS {indexConfig: {\\n         `vector.dimensions`: 1024,\\n         `vector.similarity_function`: 'cosine'\\n        }}\\n        \"\n",
      "neo4j.notifications - INFO - Received notification from DBMS server: {severity: INFORMATION} {code: Neo.ClientNotification.Schema.IndexOrConstraintAlreadyExists} {category: SCHEMA} {title: `CREATE RANGE INDEX mention_uuid IF NOT EXISTS FOR ()-[e:MENTIONS]-() ON (e.uuid)` has no effect.} {description: `RANGE INDEX mention_uuid FOR ()-[e:MENTIONS]-() ON (e.uuid)` already exists.} {position: None} for query: 'CREATE INDEX mention_uuid IF NOT EXISTS FOR ()-[e:MENTIONS]-() ON (e.uuid)'\n",
      "neo4j.notifications - INFO - Received notification from DBMS server: {severity: INFORMATION} {code: Neo.ClientNotification.Schema.IndexOrConstraintAlreadyExists} {category: SCHEMA} {title: `CREATE RANGE INDEX invalid_at_edge_index IF NOT EXISTS FOR ()-[e:RELATES_TO]-() ON (e.invalid_at)` has no effect.} {description: `RANGE INDEX invalid_at_edge_index FOR ()-[e:RELATES_TO]-() ON (e.invalid_at)` already exists.} {position: None} for query: 'CREATE INDEX invalid_at_edge_index IF NOT EXISTS FOR ()-[e:RELATES_TO]-() ON (e.invalid_at)'\n",
      "neo4j.notifications - INFO - Received notification from DBMS server: {severity: INFORMATION} {code: Neo.ClientNotification.Schema.IndexOrConstraintAlreadyExists} {category: SCHEMA} {title: `CREATE FULLTEXT INDEX name_and_fact IF NOT EXISTS FOR ()-[e:RELATES_TO]-() ON EACH [e.name, e.fact]` has no effect.} {description: `FULLTEXT INDEX name_and_fact FOR ()-[e:RELATES_TO]-() ON EACH [e.name, e.fact]` already exists.} {position: None} for query: 'CREATE FULLTEXT INDEX name_and_fact IF NOT EXISTS FOR ()-[e:RELATES_TO]-() ON EACH [e.name, e.fact]'\n",
      "neo4j.notifications - INFO - Received notification from DBMS server: {severity: INFORMATION} {code: Neo.ClientNotification.Schema.IndexOrConstraintAlreadyExists} {category: SCHEMA} {title: `CREATE RANGE INDEX name_edge_index IF NOT EXISTS FOR ()-[e:RELATES_TO]-() ON (e.name)` has no effect.} {description: `RANGE INDEX name_edge_index FOR ()-[e:RELATES_TO]-() ON (e.name)` already exists.} {position: None} for query: 'CREATE INDEX name_edge_index IF NOT EXISTS FOR ()-[e:RELATES_TO]-() ON (e.name)'\n",
      "neo4j.notifications - INFO - Received notification from DBMS server: {severity: INFORMATION} {code: Neo.ClientNotification.Schema.IndexOrConstraintAlreadyExists} {category: SCHEMA} {title: `CREATE FULLTEXT INDEX name_and_summary IF NOT EXISTS FOR (e:Entity) ON EACH [e.name, e.summary]` has no effect.} {description: `FULLTEXT INDEX name_and_summary FOR (e:Entity) ON EACH [e.name, e.summary]` already exists.} {position: None} for query: 'CREATE FULLTEXT INDEX name_and_summary IF NOT EXISTS FOR (n:Entity) ON EACH [n.name, n.summary]'\n"
     ]
    }
   ],
   "source": [
    "# # # Note: This will clear the database\n",
    "await clear_data(client.driver)\n",
    "await client.build_indices_and_constraints()"
   ]
  },
  {
   "cell_type": "markdown",
   "metadata": {},
   "source": [
    "## Load Shoe Data into the Graph\n",
    "\n",
    "Load several shoe and related products into the Graphiti. \n",
    "\n",
    "\n",
    "**IMPORTANT**: This only needs to be done once. If you run `clear_data` you'll need to rerun this step."
   ]
  },
  {
   "cell_type": "code",
   "execution_count": 6,
   "metadata": {},
   "outputs": [
    {
     "name": "stdout",
     "output_type": "stream",
     "text": [
      "graphiti_core.nodes - INFO - Saved Node to neo4j: ce00ca67f6664844b3bac3c6605aa97a\n",
      "graphiti_core.nodes - INFO - Saved Node to neo4j: 61479fe9a7dd4b15a0beb99a13993125\n",
      "graphiti_core.nodes - INFO - Saved Node to neo4j: bc61f0bce9724c85ae50a664c6e003e9\n",
      "graphiti_core.nodes - INFO - Saved Node to neo4j: eae2023383034f5087cc888a8103a06d\n",
      "graphiti_core.nodes - INFO - Saved Node to neo4j: bca9cd2242a94ff3b9877838e43691d7\n",
      "httpx - INFO - HTTP Request: POST https://api.openai.com/v1/chat/completions \"HTTP/1.1 200 OK\"\n",
      "graphiti_core.utils.maintenance.node_operations - INFO - Extracted new nodes: [{'name': 'Anytime No Show Sock - Rugged Beige', 'labels': ['Entity', 'Product'], 'summary': 'A lightweight, soft, breathable, and durable sock designed to stay hidden.'}, {'name': 'Manybirds', 'labels': ['Entity', 'Vendor'], 'summary': 'The vendor of the Anytime No Show Sock - Rugged Beige.'}, {'name': 'S (W5-7)', 'labels': ['Entity', 'Variant'], 'summary': 'A size variant of the Anytime No Show Sock - Rugged Beige.'}, {'name': 'M (W8-10 / M8)', 'labels': ['Entity', 'Variant'], 'summary': 'A size variant of the Anytime No Show Sock - Rugged Beige.'}, {'name': 'L (W11 M9-12)', 'labels': ['Entity', 'Variant'], 'summary': 'A size variant of the Anytime No Show Sock - Rugged Beige.'}, {'name': 'XL (M13-14)', 'labels': ['Entity', 'Variant'], 'summary': 'A size variant of the Anytime No Show Sock - Rugged Beige.'}] in 3765.449285507202 ms\n",
      "graphiti_core.utils.maintenance.node_operations - INFO - Created new node: Anytime No Show Sock - Rugged Beige (UUID: d3b58b00d2a34c448173139cfeb91c61)\n",
      "graphiti_core.utils.maintenance.node_operations - INFO - Created new node: Manybirds (UUID: 3ea547e0ab6744b090180d827161ee1c)\n",
      "graphiti_core.utils.maintenance.node_operations - INFO - Created new node: S (W5-7) (UUID: f66a120ba25f45a99e01a62740682e7b)\n",
      "graphiti_core.utils.maintenance.node_operations - INFO - Created new node: M (W8-10 / M8) (UUID: bedd404bd1ce48cd8c5c1a826c7ec08e)\n",
      "graphiti_core.utils.maintenance.node_operations - INFO - Created new node: L (W11 M9-12) (UUID: b9b4c53f834a4aef8e54631e49900c80)\n",
      "graphiti_core.utils.maintenance.node_operations - INFO - Created new node: XL (M13-14) (UUID: 67934686f6f147ba9f53597a345ca09c)\n",
      "httpx - INFO - HTTP Request: POST https://api.openai.com/v1/chat/completions \"HTTP/1.1 200 OK\"\n",
      "graphiti_core.utils.maintenance.node_operations - INFO - Extracted new nodes: [{'name': 'TinyBirds Wool Runners - Little Kids - Natural Black (Blizzard Sole)', 'labels': ['Entity', 'Product'], 'summary': 'Eco-friendly and machine washable sneakers for kids made with ZQ Merino Wool.'}, {'name': 'Manybirds', 'labels': ['Entity', 'Vendor'], 'summary': 'Vendor of the TinyBirds Wool Runners product.'}, {'name': 'Shoes', 'labels': ['Entity', 'ProductType'], 'summary': 'Product type category for the TinyBirds Wool Runners.'}, {'name': '5T', 'labels': ['Entity', 'Variant'], 'summary': 'Size variant of the TinyBirds Wool Runners with SKU AB00DFT050.'}, {'name': '6T', 'labels': ['Entity', 'Variant'], 'summary': 'Size variant of the TinyBirds Wool Runners with SKU AB00DFT060.'}, {'name': '7T', 'labels': ['Entity', 'Variant'], 'summary': 'Size variant of the TinyBirds Wool Runners with SKU AB00DFT070.'}, {'name': '8T', 'labels': ['Entity', 'Variant'], 'summary': 'Size variant of the TinyBirds Wool Runners with SKU AB00DFT080.'}, {'name': '9T', 'labels': ['Entity', 'Variant'], 'summary': 'Size variant of the TinyBirds Wool Runners with SKU AB00DFT090.'}, {'name': '10T', 'labels': ['Entity', 'Variant'], 'summary': 'Size variant of the TinyBirds Wool Runners with SKU AB00DFT100.'}] in 4066.7808055877686 ms\n",
      "graphiti_core.utils.maintenance.node_operations - INFO - Created new node: TinyBirds Wool Runners - Little Kids - Natural Black (Blizzard Sole) (UUID: 063900ed5acb4ed99dba64ca33194cc5)\n",
      "graphiti_core.utils.maintenance.node_operations - INFO - Created new node: Manybirds (UUID: b08c2fcac74c4ab7a4957fbe55c6ec4b)\n",
      "graphiti_core.utils.maintenance.node_operations - INFO - Created new node: Shoes (UUID: 8365498372854a3b9204fb8f30cf3faf)\n",
      "graphiti_core.utils.maintenance.node_operations - INFO - Created new node: 5T (UUID: 3651b67a3fb04bb6876f3646598f9212)\n",
      "graphiti_core.utils.maintenance.node_operations - INFO - Created new node: 6T (UUID: 9570f6b399f640d3b09ababe2f01bc4c)\n",
      "graphiti_core.utils.maintenance.node_operations - INFO - Created new node: 7T (UUID: 84696c6a64384169b1a4c9773d9889d7)\n",
      "graphiti_core.utils.maintenance.node_operations - INFO - Created new node: 8T (UUID: 9196aef1a231477b92a4ab2f8d94847d)\n",
      "graphiti_core.utils.maintenance.node_operations - INFO - Created new node: 9T (UUID: 5bb88cb1905b4befbaafc60fe24df097)\n",
      "graphiti_core.utils.maintenance.node_operations - INFO - Created new node: 10T (UUID: 8becb8d8adc94cd7b369aa9992a8e84f)\n",
      "httpx - INFO - HTTP Request: POST https://api.openai.com/v1/chat/completions \"HTTP/1.1 200 OK\"\n",
      "graphiti_core.utils.maintenance.node_operations - INFO - Extracted new nodes: [{'name': 'ManyBirds', 'labels': ['Entity', 'Vendor'], 'summary': 'The vendor or brand of the product.'}, {'name': \"Men's SuperLight Wool Runners - Dark Grey (Medium Grey Sole)\", 'labels': ['Entity', 'Product'], 'summary': 'A product offered by ManyBirds, featuring an ultralight upper and SuperLight Foam technology.'}, {'name': 'Shoes', 'labels': ['Entity', 'ProductType'], 'summary': 'The type of product being offered.'}, {'name': 'SuperLight Foam technology', 'labels': ['Entity', 'Technology'], 'summary': 'A revolutionary technology used in the product for a light-as-air fit.'}, {'name': 'Wool', 'labels': ['Entity', 'Material'], 'summary': \"The material used in the product's construction.\"}, {'name': 'Runner', 'labels': ['Entity', 'Silhouette'], 'summary': 'The silhouette or style of the shoe.'}, {'name': 'Grey', 'labels': ['Entity', 'Color'], 'summary': 'The color of the product.'}] in 5298.439025878906 ms\n",
      "graphiti_core.utils.maintenance.node_operations - INFO - Created new node: ManyBirds (UUID: 394c3215a6204ecdbfc62e9bbf751bff)\n",
      "graphiti_core.utils.maintenance.node_operations - INFO - Created new node: Men's SuperLight Wool Runners - Dark Grey (Medium Grey Sole) (UUID: d9632f7d29764c0d8762f4b6455f4641)\n",
      "graphiti_core.utils.maintenance.node_operations - INFO - Created new node: Shoes (UUID: be5a39775a774ab895973554eb6747b0)\n",
      "graphiti_core.utils.maintenance.node_operations - INFO - Created new node: SuperLight Foam technology (UUID: 8cb5b4a79c6844de9ecb0d3bbeadc95c)\n",
      "graphiti_core.utils.maintenance.node_operations - INFO - Created new node: Wool (UUID: fb3d7b549f7b40ee8b0a289d7fe72475)\n",
      "graphiti_core.utils.maintenance.node_operations - INFO - Created new node: Runner (UUID: 2aebd9d05678481ea09e6f63c1457461)\n",
      "graphiti_core.utils.maintenance.node_operations - INFO - Created new node: Grey (UUID: e9e6e56aac3a43e487b05887dc232c83)\n",
      "httpx - INFO - HTTP Request: POST https://api.openai.com/v1/chat/completions \"HTTP/1.1 200 OK\"\n",
      "graphiti_core.utils.maintenance.node_operations - INFO - Extracted new nodes: [{'name': 'ManyBirds', 'labels': ['Entity', 'Vendor'], 'summary': 'The vendor of the product, known for producing shoes.'}, {'name': \"Women's Tree Breezers Knit - Rugged Beige (Hazy Beige Sole)\", 'labels': ['Entity', 'Product'], 'summary': 'A versatile, lightweight, and comfortable ballet flat made from eucalyptus tree fiber.'}, {'name': 'Shoes', 'labels': ['Entity', 'ProductType'], 'summary': 'The type of product being sold, specifically footwear.'}, {'name': 'Manybirds::carbon-score = 2.93', 'labels': ['Entity', 'Tag'], 'summary': 'A tag indicating the carbon score of the product.'}, {'name': 'Manybirds::cfId = color-womens-tree-breezers-rugged-beige-hazy-beige', 'labels': ['Entity', 'Tag'], 'summary': 'A tag indicating the color identifier for the product.'}, {'name': 'Manybirds::complete = true', 'labels': ['Entity', 'Tag'], 'summary': 'A tag indicating the product is complete.'}, {'name': 'Manybirds::edition = limited', 'labels': ['Entity', 'Tag'], 'summary': 'A tag indicating the product is a limited edition.'}, {'name': 'Manybirds::gender = womens', 'labels': ['Entity', 'Tag'], 'summary': 'A tag indicating the product is designed for women.'}, {'name': 'Manybirds::hue = beige', 'labels': ['Entity', 'Tag'], 'summary': 'A tag indicating the color hue of the product.'}, {'name': 'Manybirds::master = womens-tree-breezers', 'labels': ['Entity', 'Tag'], 'summary': 'A tag indicating the master product line.'}, {'name': 'Manybirds::material = tree', 'labels': ['Entity', 'Tag'], 'summary': 'A tag indicating the material used in the product.'}, {'name': 'Manybirds::price-tier = msrp', 'labels': ['Entity', 'Tag'], 'summary': 'A tag indicating the price tier of the product.'}, {'name': 'Manybirds::silhouette = breezer', 'labels': ['Entity', 'Tag'], 'summary': 'A tag indicating the silhouette style of the product.'}, {'name': 'loop::returnable = true', 'labels': ['Entity', 'Tag'], 'summary': 'A tag indicating the product is returnable.'}, {'name': 'shoprunner', 'labels': ['Entity', 'Tag'], 'summary': 'A tag related to the ShopRunner service.'}, {'name': 'YCRF_womens-move-shoes-half-sizes', 'labels': ['Entity', 'Tag'], 'summary': \"A tag related to the product's sizing options.\"}, {'name': 'YGroup_ygroup_womens-tree-breezers', 'labels': ['Entity', 'Tag'], 'summary': 'A tag indicating the product group.'}] in 8429.919004440308 ms\n",
      "graphiti_core.utils.maintenance.node_operations - INFO - Created new node: ManyBirds (UUID: b35b1bb3b0a048dc9eb3dc6666c60f3d)\n",
      "graphiti_core.utils.maintenance.node_operations - INFO - Created new node: Women's Tree Breezers Knit - Rugged Beige (Hazy Beige Sole) (UUID: a98883603cb440788a291e94b957c607)\n",
      "graphiti_core.utils.maintenance.node_operations - INFO - Created new node: Shoes (UUID: d061a1b1d62c4219b8bda7bb4046d611)\n",
      "graphiti_core.utils.maintenance.node_operations - INFO - Created new node: Manybirds::carbon-score = 2.93 (UUID: 6f2774f59f4d4c30b000f4d6f3b23877)\n",
      "graphiti_core.utils.maintenance.node_operations - INFO - Created new node: Manybirds::cfId = color-womens-tree-breezers-rugged-beige-hazy-beige (UUID: 86c62628b8cd44128ad4fb2a15c13087)\n",
      "graphiti_core.utils.maintenance.node_operations - INFO - Created new node: Manybirds::complete = true (UUID: aab62a52f24c410cbe780ad3557dc3d7)\n",
      "graphiti_core.utils.maintenance.node_operations - INFO - Created new node: Manybirds::edition = limited (UUID: d01c2e8baa554854a25661b4ed7ba4b8)\n",
      "graphiti_core.utils.maintenance.node_operations - INFO - Created new node: Manybirds::gender = womens (UUID: c9d89a720d3147c6ae2d00a67e58f29d)\n",
      "graphiti_core.utils.maintenance.node_operations - INFO - Created new node: Manybirds::hue = beige (UUID: b7a11a0d6bd4454ca4272dd59dbffa6d)\n",
      "graphiti_core.utils.maintenance.node_operations - INFO - Created new node: Manybirds::master = womens-tree-breezers (UUID: a68aeca0d7a84e4fb8a6f0d46f108b5f)\n",
      "graphiti_core.utils.maintenance.node_operations - INFO - Created new node: Manybirds::material = tree (UUID: 5f665dbf73504746952d5fdb9ea58f76)\n",
      "graphiti_core.utils.maintenance.node_operations - INFO - Created new node: Manybirds::price-tier = msrp (UUID: 5fa0bbdf9d7e410aa2c13c9effbfcb92)\n",
      "graphiti_core.utils.maintenance.node_operations - INFO - Created new node: Manybirds::silhouette = breezer (UUID: cabb0db050114c9db6553df31036c096)\n",
      "graphiti_core.utils.maintenance.node_operations - INFO - Created new node: loop::returnable = true (UUID: 93969247dbb4410595257c5870be784d)\n",
      "graphiti_core.utils.maintenance.node_operations - INFO - Created new node: shoprunner (UUID: 8d4ca077166242399e7c529a89557c61)\n",
      "graphiti_core.utils.maintenance.node_operations - INFO - Created new node: YCRF_womens-move-shoes-half-sizes (UUID: 1075542e49be4df086538e8c3d3643c5)\n",
      "graphiti_core.utils.maintenance.node_operations - INFO - Created new node: YGroup_ygroup_womens-tree-breezers (UUID: 2a8e4c27b27146e8b38763ab0e731005)\n",
      "httpx - INFO - HTTP Request: POST https://api.openai.com/v1/chat/completions \"HTTP/1.1 200 OK\"\n",
      "graphiti_core.utils.maintenance.node_operations - INFO - Extracted new nodes: [{'name': 'ManyBirds', 'labels': ['Entity', 'Vendor'], 'summary': 'The vendor or brand of the product.'}, {'name': \"Men's Couriers - Natural Black/Basin Blue (Blizzard Sole)\", 'labels': ['Entity', 'Product'], 'summary': 'The title of the product, a type of shoe offered by ManyBirds.'}, {'name': 'Shoes', 'labels': ['Entity', 'ProductType'], 'summary': 'The type of product being sold.'}, {'name': 'Manybirds::carbon-score = 5.51', 'labels': ['Entity', 'Tag'], 'summary': 'A tag indicating the carbon score of the product.'}, {'name': 'Manybirds::cfId = color-mens-couriers-ntl-blk-multi-blzz', 'labels': ['Entity', 'Tag'], 'summary': 'A tag indicating the color identifier for the product.'}, {'name': 'Manybirds::complete = true', 'labels': ['Entity', 'Tag'], 'summary': 'A tag indicating the product is complete.'}, {'name': 'Manybirds::edition = limited', 'labels': ['Entity', 'Tag'], 'summary': 'A tag indicating the product is a limited edition.'}, {'name': 'Manybirds::gender = mens', 'labels': ['Entity', 'Tag'], 'summary': 'A tag indicating the product is designed for men.'}, {'name': 'Manybirds::hue = black', 'labels': ['Entity', 'Tag'], 'summary': \"A tag indicating the product's color is black.\"}, {'name': 'Manybirds::hue = blue', 'labels': ['Entity', 'Tag'], 'summary': \"A tag indicating the product's color is blue.\"}, {'name': 'Manybirds::master = mens-couriers', 'labels': ['Entity', 'Tag'], 'summary': 'A tag indicating the master product line.'}, {'name': 'Manybirds::material = cotton', 'labels': ['Entity', 'Tag'], 'summary': 'A tag indicating the product is made of cotton.'}, {'name': 'Manybirds::price-tier = msrp', 'labels': ['Entity', 'Tag'], 'summary': 'A tag indicating the price tier of the product.'}, {'name': 'Manybirds::silhouette = runner', 'labels': ['Entity', 'Tag'], 'summary': 'A tag indicating the silhouette style of the product.'}, {'name': 'loop::returnable = true', 'labels': ['Entity', 'Tag'], 'summary': 'A tag indicating the product is returnable.'}, {'name': 'shoprunner', 'labels': ['Entity', 'Tag'], 'summary': 'A tag related to the ShopRunner service.'}, {'name': 'YCRF_mens-move-shoes', 'labels': ['Entity', 'Tag'], 'summary': \"A tag related to the YCRF men's move shoes category.\"}, {'name': 'YGroup_ygroup_mens-couriers', 'labels': ['Entity', 'Tag'], 'summary': \"A tag related to the YGroup men's couriers category.\"}] in 9652.976989746094 ms\n",
      "graphiti_core.utils.maintenance.node_operations - INFO - Created new node: ManyBirds (UUID: 33943295c0e44ee790fc12481d238863)\n",
      "graphiti_core.utils.maintenance.node_operations - INFO - Created new node: Men's Couriers - Natural Black/Basin Blue (Blizzard Sole) (UUID: daf91710a6e9430bbac24f1fb7396c97)\n",
      "graphiti_core.utils.maintenance.node_operations - INFO - Created new node: Shoes (UUID: b9ae9201618d4775a1b3b91ff5516cc3)\n",
      "graphiti_core.utils.maintenance.node_operations - INFO - Created new node: Manybirds::carbon-score = 5.51 (UUID: 579a3a64025a4344a521247f1dee7150)\n",
      "graphiti_core.utils.maintenance.node_operations - INFO - Created new node: Manybirds::cfId = color-mens-couriers-ntl-blk-multi-blzz (UUID: 0b9454b004c140f6ae982026fea36e31)\n",
      "graphiti_core.utils.maintenance.node_operations - INFO - Created new node: Manybirds::complete = true (UUID: 8c18fab7c5a64d8db89e865827c95777)\n",
      "graphiti_core.utils.maintenance.node_operations - INFO - Created new node: Manybirds::edition = limited (UUID: bba4ec20e64a4ce08957b963e62b361b)\n",
      "graphiti_core.utils.maintenance.node_operations - INFO - Created new node: Manybirds::gender = mens (UUID: ee5e049050414cbdb22b95cc1873ff5b)\n",
      "graphiti_core.utils.maintenance.node_operations - INFO - Created new node: Manybirds::hue = black (UUID: 0afb1812b08240c3801f8fbe05967049)\n",
      "graphiti_core.utils.maintenance.node_operations - INFO - Created new node: Manybirds::hue = blue (UUID: 6d7091c6c4e14bca902d64a4e4d70dd4)\n",
      "graphiti_core.utils.maintenance.node_operations - INFO - Created new node: Manybirds::master = mens-couriers (UUID: a53423f42c3e40a5852d0e95b175d0ac)\n",
      "graphiti_core.utils.maintenance.node_operations - INFO - Created new node: Manybirds::material = cotton (UUID: bc69120fa9f947088ac8e9cb2e03cff4)\n",
      "graphiti_core.utils.maintenance.node_operations - INFO - Created new node: Manybirds::price-tier = msrp (UUID: 8058d88f3bc547e38634e8a23287eaba)\n",
      "graphiti_core.utils.maintenance.node_operations - INFO - Created new node: Manybirds::silhouette = runner (UUID: abeedf618b464a1ba0eb5733fc651455)\n",
      "graphiti_core.utils.maintenance.node_operations - INFO - Created new node: loop::returnable = true (UUID: f994aecb673e4d79a11b9bd76561a2ca)\n",
      "graphiti_core.utils.maintenance.node_operations - INFO - Created new node: shoprunner (UUID: 855bdd65393b43c0a744d2c327f1ce4a)\n",
      "graphiti_core.utils.maintenance.node_operations - INFO - Created new node: YCRF_mens-move-shoes (UUID: 3447d978253f47ef92bc2c374b3422be)\n",
      "graphiti_core.utils.maintenance.node_operations - INFO - Created new node: YGroup_ygroup_mens-couriers (UUID: 10c2caeba5ad44b9ba199801e8de9ce6)\n",
      "httpx - INFO - HTTP Request: POST https://api.openai.com/v1/chat/completions \"HTTP/1.1 200 OK\"\n",
      "graphiti_core.utils.maintenance.edge_operations - INFO - Extracted new edges: [{'relation_type': 'IS_SOLD_BY', 'source_node_uuid': 'd3b58b00d2a34c448173139cfeb91c61', 'target_node_uuid': '3ea547e0ab6744b090180d827161ee1c', 'fact': 'The Anytime No Show Sock - Rugged Beige is sold by Manybirds.', 'valid_at': '2023-10-30T20:22:43-07:00', 'invalid_at': None}, {'relation_type': 'HAS_SIZE_VARIANT', 'source_node_uuid': 'd3b58b00d2a34c448173139cfeb91c61', 'target_node_uuid': 'f66a120ba25f45a99e01a62740682e7b', 'fact': 'The Anytime No Show Sock - Rugged Beige has a size variant S (W5-7).', 'valid_at': '2023-10-30T20:22:43-07:00', 'invalid_at': None}, {'relation_type': 'HAS_SIZE_VARIANT', 'source_node_uuid': 'd3b58b00d2a34c448173139cfeb91c61', 'target_node_uuid': 'bedd404bd1ce48cd8c5c1a826c7ec08e', 'fact': 'The Anytime No Show Sock - Rugged Beige has a size variant M (W8-10 / M8).', 'valid_at': '2023-10-30T20:22:43-07:00', 'invalid_at': None}, {'relation_type': 'HAS_SIZE_VARIANT', 'source_node_uuid': 'd3b58b00d2a34c448173139cfeb91c61', 'target_node_uuid': 'b9b4c53f834a4aef8e54631e49900c80', 'fact': 'The Anytime No Show Sock - Rugged Beige has a size variant L (W11 M9-12).', 'valid_at': '2023-10-30T20:22:43-07:00', 'invalid_at': None}, {'relation_type': 'HAS_SIZE_VARIANT', 'source_node_uuid': 'd3b58b00d2a34c448173139cfeb91c61', 'target_node_uuid': '67934686f6f147ba9f53597a345ca09c', 'fact': 'The Anytime No Show Sock - Rugged Beige has a size variant XL (M13-14).', 'valid_at': '2023-10-30T20:22:43-07:00', 'invalid_at': None}] in 5884.4239711761475 ms\n",
      "graphiti_core.utils.maintenance.edge_operations - INFO - Created new edge: IS_SOLD_BY from (UUID: d3b58b00d2a34c448173139cfeb91c61) to (UUID: 3ea547e0ab6744b090180d827161ee1c)\n",
      "graphiti_core.utils.maintenance.edge_operations - INFO - Created new edge: HAS_SIZE_VARIANT from (UUID: d3b58b00d2a34c448173139cfeb91c61) to (UUID: f66a120ba25f45a99e01a62740682e7b)\n",
      "graphiti_core.utils.maintenance.edge_operations - INFO - Created new edge: HAS_SIZE_VARIANT from (UUID: d3b58b00d2a34c448173139cfeb91c61) to (UUID: bedd404bd1ce48cd8c5c1a826c7ec08e)\n",
      "graphiti_core.utils.maintenance.edge_operations - INFO - Created new edge: HAS_SIZE_VARIANT from (UUID: d3b58b00d2a34c448173139cfeb91c61) to (UUID: b9b4c53f834a4aef8e54631e49900c80)\n",
      "graphiti_core.utils.maintenance.edge_operations - INFO - Created new edge: HAS_SIZE_VARIANT from (UUID: d3b58b00d2a34c448173139cfeb91c61) to (UUID: 67934686f6f147ba9f53597a345ca09c)\n",
      "httpx - INFO - HTTP Request: POST https://api.openai.com/v1/chat/completions \"HTTP/1.1 200 OK\"\n",
      "graphiti_core.utils.maintenance.edge_operations - INFO - Extracted new edges: [{'relation_type': 'OFFERS', 'source_node_uuid': '394c3215a6204ecdbfc62e9bbf751bff', 'target_node_uuid': 'd9632f7d29764c0d8762f4b6455f4641', 'fact': \"ManyBirds offers the Men's SuperLight Wool Runners - Dark Grey (Medium Grey Sole).\", 'valid_at': '2024-08-19T15:15:23Z', 'invalid_at': None}, {'relation_type': 'IS_A', 'source_node_uuid': 'd9632f7d29764c0d8762f4b6455f4641', 'target_node_uuid': 'be5a39775a774ab895973554eb6747b0', 'fact': \"Men's SuperLight Wool Runners - Dark Grey (Medium Grey Sole) is a type of Shoes.\", 'valid_at': None, 'invalid_at': None}, {'relation_type': 'USES_TECHNOLOGY', 'source_node_uuid': 'd9632f7d29764c0d8762f4b6455f4641', 'target_node_uuid': '8cb5b4a79c6844de9ecb0d3bbeadc95c', 'fact': \"Men's SuperLight Wool Runners - Dark Grey (Medium Grey Sole) uses SuperLight Foam technology.\", 'valid_at': None, 'invalid_at': None}, {'relation_type': 'MADE_OF', 'source_node_uuid': 'd9632f7d29764c0d8762f4b6455f4641', 'target_node_uuid': 'fb3d7b549f7b40ee8b0a289d7fe72475', 'fact': \"Men's SuperLight Wool Runners - Dark Grey (Medium Grey Sole) is made of Wool.\", 'valid_at': None, 'invalid_at': None}, {'relation_type': 'HAS_COLOR', 'source_node_uuid': 'd9632f7d29764c0d8762f4b6455f4641', 'target_node_uuid': 'e9e6e56aac3a43e487b05887dc232c83', 'fact': \"Men's SuperLight Wool Runners - Dark Grey (Medium Grey Sole) has the color Grey.\", 'valid_at': None, 'invalid_at': None}, {'relation_type': 'HAS_SILHOUETTE', 'source_node_uuid': 'd9632f7d29764c0d8762f4b6455f4641', 'target_node_uuid': '2aebd9d05678481ea09e6f63c1457461', 'fact': \"Men's SuperLight Wool Runners - Dark Grey (Medium Grey Sole) has the silhouette of a Runner.\", 'valid_at': None, 'invalid_at': None}] in 8460.056066513062 ms\n",
      "graphiti_core.utils.maintenance.edge_operations - INFO - Created new edge: OFFERS from (UUID: 394c3215a6204ecdbfc62e9bbf751bff) to (UUID: d9632f7d29764c0d8762f4b6455f4641)\n",
      "graphiti_core.utils.maintenance.edge_operations - INFO - Created new edge: IS_A from (UUID: d9632f7d29764c0d8762f4b6455f4641) to (UUID: be5a39775a774ab895973554eb6747b0)\n",
      "graphiti_core.utils.maintenance.edge_operations - INFO - Created new edge: USES_TECHNOLOGY from (UUID: d9632f7d29764c0d8762f4b6455f4641) to (UUID: 8cb5b4a79c6844de9ecb0d3bbeadc95c)\n",
      "graphiti_core.utils.maintenance.edge_operations - INFO - Created new edge: MADE_OF from (UUID: d9632f7d29764c0d8762f4b6455f4641) to (UUID: fb3d7b549f7b40ee8b0a289d7fe72475)\n",
      "graphiti_core.utils.maintenance.edge_operations - INFO - Created new edge: HAS_COLOR from (UUID: d9632f7d29764c0d8762f4b6455f4641) to (UUID: e9e6e56aac3a43e487b05887dc232c83)\n",
      "graphiti_core.utils.maintenance.edge_operations - INFO - Created new edge: HAS_SILHOUETTE from (UUID: d9632f7d29764c0d8762f4b6455f4641) to (UUID: 2aebd9d05678481ea09e6f63c1457461)\n",
      "httpx - INFO - HTTP Request: POST https://api.openai.com/v1/chat/completions \"HTTP/1.1 200 OK\"\n",
      "graphiti_core.utils.maintenance.edge_operations - INFO - Extracted new edges: [{'relation_type': 'IS_SOLD_BY', 'source_node_uuid': '063900ed5acb4ed99dba64ca33194cc5', 'target_node_uuid': 'b08c2fcac74c4ab7a4957fbe55c6ec4b', 'fact': 'TinyBirds Wool Runners are sold by the vendor Manybirds.', 'valid_at': '2023-01-03T16:00:31-08:00', 'invalid_at': None}, {'relation_type': 'IS_A_TYPE_OF', 'source_node_uuid': '063900ed5acb4ed99dba64ca33194cc5', 'target_node_uuid': '8365498372854a3b9204fb8f30cf3faf', 'fact': 'TinyBirds Wool Runners are a type of Shoes.', 'valid_at': '2023-01-03T16:00:31-08:00', 'invalid_at': None}, {'relation_type': 'HAS_SIZE_VARIANT', 'source_node_uuid': '063900ed5acb4ed99dba64ca33194cc5', 'target_node_uuid': '3651b67a3fb04bb6876f3646598f9212', 'fact': 'TinyBirds Wool Runners have a size variant 5T.', 'valid_at': '2023-01-03T16:00:32-08:00', 'invalid_at': None}, {'relation_type': 'HAS_SIZE_VARIANT', 'source_node_uuid': '063900ed5acb4ed99dba64ca33194cc5', 'target_node_uuid': '9570f6b399f640d3b09ababe2f01bc4c', 'fact': 'TinyBirds Wool Runners have a size variant 6T.', 'valid_at': '2023-01-03T16:00:32-08:00', 'invalid_at': None}, {'relation_type': 'HAS_SIZE_VARIANT', 'source_node_uuid': '063900ed5acb4ed99dba64ca33194cc5', 'target_node_uuid': '84696c6a64384169b1a4c9773d9889d7', 'fact': 'TinyBirds Wool Runners have a size variant 7T.', 'valid_at': '2023-01-03T16:00:32-08:00', 'invalid_at': None}, {'relation_type': 'HAS_SIZE_VARIANT', 'source_node_uuid': '063900ed5acb4ed99dba64ca33194cc5', 'target_node_uuid': '9196aef1a231477b92a4ab2f8d94847d', 'fact': 'TinyBirds Wool Runners have a size variant 8T.', 'valid_at': '2023-01-03T16:00:32-08:00', 'invalid_at': None}, {'relation_type': 'HAS_SIZE_VARIANT', 'source_node_uuid': '063900ed5acb4ed99dba64ca33194cc5', 'target_node_uuid': '5bb88cb1905b4befbaafc60fe24df097', 'fact': 'TinyBirds Wool Runners have a size variant 9T.', 'valid_at': '2023-01-03T16:00:32-08:00', 'invalid_at': None}, {'relation_type': 'HAS_SIZE_VARIANT', 'source_node_uuid': '063900ed5acb4ed99dba64ca33194cc5', 'target_node_uuid': '8becb8d8adc94cd7b369aa9992a8e84f', 'fact': 'TinyBirds Wool Runners have a size variant 10T.', 'valid_at': '2023-01-03T16:00:32-08:00', 'invalid_at': None}] in 11031.312942504883 ms\n",
      "graphiti_core.utils.maintenance.edge_operations - INFO - Created new edge: IS_SOLD_BY from (UUID: 063900ed5acb4ed99dba64ca33194cc5) to (UUID: b08c2fcac74c4ab7a4957fbe55c6ec4b)\n",
      "graphiti_core.utils.maintenance.edge_operations - INFO - Created new edge: IS_A_TYPE_OF from (UUID: 063900ed5acb4ed99dba64ca33194cc5) to (UUID: 8365498372854a3b9204fb8f30cf3faf)\n",
      "graphiti_core.utils.maintenance.edge_operations - INFO - Created new edge: HAS_SIZE_VARIANT from (UUID: 063900ed5acb4ed99dba64ca33194cc5) to (UUID: 3651b67a3fb04bb6876f3646598f9212)\n",
      "graphiti_core.utils.maintenance.edge_operations - INFO - Created new edge: HAS_SIZE_VARIANT from (UUID: 063900ed5acb4ed99dba64ca33194cc5) to (UUID: 9570f6b399f640d3b09ababe2f01bc4c)\n",
      "graphiti_core.utils.maintenance.edge_operations - INFO - Created new edge: HAS_SIZE_VARIANT from (UUID: 063900ed5acb4ed99dba64ca33194cc5) to (UUID: 84696c6a64384169b1a4c9773d9889d7)\n",
      "graphiti_core.utils.maintenance.edge_operations - INFO - Created new edge: HAS_SIZE_VARIANT from (UUID: 063900ed5acb4ed99dba64ca33194cc5) to (UUID: 9196aef1a231477b92a4ab2f8d94847d)\n",
      "graphiti_core.utils.maintenance.edge_operations - INFO - Created new edge: HAS_SIZE_VARIANT from (UUID: 063900ed5acb4ed99dba64ca33194cc5) to (UUID: 5bb88cb1905b4befbaafc60fe24df097)\n",
      "graphiti_core.utils.maintenance.edge_operations - INFO - Created new edge: HAS_SIZE_VARIANT from (UUID: 063900ed5acb4ed99dba64ca33194cc5) to (UUID: 8becb8d8adc94cd7b369aa9992a8e84f)\n"
     ]
    }
   ],
   "source": [
    "async def ingest_products_data(client: Graphiti):\n",
    "    script_dir = Path.cwd().parent\n",
    "    json_file_path = script_dir / 'data' / 'manybirds_products.json'\n",
    "\n",
    "    with open(json_file_path) as file:\n",
    "        products = json.load(file)['products']\n",
    "\n",
    "    episodes: list[RawEpisode] = [\n",
    "        RawEpisode(\n",
    "            name=product.get('title', f'Product {i}'),\n",
    "            content=str({k: v for k, v in product.items() if k != 'images'}),\n",
    "            source_description='ManyBirds products',\n",
    "            source=EpisodeType.json,\n",
    "            reference_time=datetime.now(),\n",
    "        )\n",
    "        for i, product in enumerate(products)\n",
    "    ]\n",
    "\n",
    "    await client.add_episode_bulk(episodes)\n",
    "\n",
    "\n",
    "await ingest_products_data(client)"
   ]
  },
  {
   "cell_type": "markdown",
   "metadata": {},
   "source": [
    "## Create a user node in the Graphiti graph\n",
    "\n",
    "In your own app, this step could be done later once the user has identified themselves and made their sales intent known. We do this here so we can configure the agent with the user's `node_uuid`."
   ]
  },
  {
   "cell_type": "code",
   "execution_count": null,
   "metadata": {},
   "outputs": [
    {
     "name": "stdout",
     "output_type": "stream",
     "text": [
      "httpx - INFO - HTTP Request: POST https://api.openai.com/v1/chat/completions \"HTTP/1.1 200 OK\"\n",
      "graphiti_core.utils.maintenance.node_operations - INFO - Extracted new nodes: [{'name': 'jess', 'labels': ['Entity', 'Speaker'], 'summary': 'The speaker who is interested in purchasing shoes'}, {'name': 'shoes', 'labels': ['Entity'], 'summary': 'The item that Jess is interested in buying'}] in 1274.2269039154053 ms\n",
      "graphiti_core.utils.maintenance.node_operations - INFO - Created new node: jess (UUID: 4a3280321c654ed2a9108f2f30eb515c)\n",
      "graphiti_core.utils.maintenance.node_operations - INFO - Created new node: shoes (UUID: 72cfb0f283a6493e91900781d4df0562)\n",
      "graphiti_core.graphiti - INFO - Extracted nodes: [('jess', '4a3280321c654ed2a9108f2f30eb515c'), ('shoes', '72cfb0f283a6493e91900781d4df0562')]\n",
      "httpx - INFO - HTTP Request: POST https://api.openai.com/v1/embeddings \"HTTP/1.1 200 OK\"\n",
      "graphiti_core.nodes - INFO - embedded jess in 0.1448841094970703 ms\n",
      "httpx - INFO - HTTP Request: POST https://api.openai.com/v1/embeddings \"HTTP/1.1 200 OK\"\n",
      "graphiti_core.nodes - INFO - embedded shoes in 0.28632187843322754 ms\n",
      "graphiti_core.search.search_utils - INFO - Found relevant nodes: {'7ff93365b73f4994910ef65eef4272c0', '3c88a5a96ad9409fbfd3815a4fadd511', 'f580d88db47441b6aa529ffdd389bc30', 'b070c3a1019b426887135426847f4e84', 'a62aeec7d6f8463db1ece9490b4cd172', '32aa20926ba0446cb137cd869a88825a', '9428fffb3e00470793d296833cb71d38', '1e4f79c6bd794f538beb1c20e3878ddb', '64ef662d27234a058365266fda6f3ba8', '3989f213ae624713876262e7ddc38d96', '7a13cd1d0ee149f3aed1816a85f31a8e', 'baedfa06983846928d7f3615dd175e5f', '4e0b432a110146e5906d7d3af42adc77', 'f447d9e273c24dfea723827ab50a455b', 'e07129aa488e4cb7a9b82975b26469d8', '29e91fd8ccf74b71a7b20d4ad3ba666a'} in 20.99299430847168 ms\n",
      "graphiti_core.graphiti - INFO - Extracted nodes: [('jess', '4a3280321c654ed2a9108f2f30eb515c'), ('shoes', '72cfb0f283a6493e91900781d4df0562')]\n",
      "httpx - INFO - HTTP Request: POST https://api.openai.com/v1/chat/completions \"HTTP/1.1 200 OK\"\n",
      "graphiti_core.utils.maintenance.node_operations - INFO - Deduplicated nodes: [{'name': 'shoes', 'duplicate_of': 'Shoes'}] in 601.6960144042969 ms\n",
      "graphiti_core.graphiti - INFO - Adjusted touched nodes: [('jess', '4a3280321c654ed2a9108f2f30eb515c'), ('Shoes', '64ef662d27234a058365266fda6f3ba8')]\n",
      "httpx - INFO - HTTP Request: POST https://api.openai.com/v1/chat/completions \"HTTP/1.1 200 OK\"\n",
      "graphiti_core.utils.maintenance.edge_operations - INFO - Extracted new edges: [{'relation_type': 'INTERESTED_IN', 'source_node_uuid': '4a3280321c654ed2a9108f2f30eb515c', 'target_node_uuid': '64ef662d27234a058365266fda6f3ba8', 'fact': 'Jess is interested in buying a pair of shoes.', 'valid_at': None, 'invalid_at': None}] in 1581.9330215454102 ms\n",
      "graphiti_core.utils.maintenance.edge_operations - INFO - Created new edge: INTERESTED_IN from (UUID: 4a3280321c654ed2a9108f2f30eb515c) to (UUID: 64ef662d27234a058365266fda6f3ba8)\n",
      "httpx - INFO - HTTP Request: POST https://api.openai.com/v1/embeddings \"HTTP/1.1 200 OK\"\n",
      "graphiti_core.edges - INFO - embedded Jess is interested in buying a pair of shoes. in 0.1392662525177002 ms\n",
      "graphiti_core.search.search_utils - INFO - Found relevant edges: {'2f3e82a8f10246f28997e2927cc3a9a7', '11ffcd26fd10498da91d5e050bb03bda', 'daaf6828235340b4a1545cb55f738101', '0ddac5104ccd4b3fa9d641578ca69007', 'a26165c482e04e78893115dbbc8d0d57'} in 22.91727066040039 ms\n",
      "graphiti_core.graphiti - INFO - Existing edges: [('IS_A', '11ffcd26fd10498da91d5e050bb03bda'), ('HAS_TAG', 'a26165c482e04e78893115dbbc8d0d57'), ('IS_A_TYPE_OF', '2f3e82a8f10246f28997e2927cc3a9a7'), ('HAS_SIZE', '0ddac5104ccd4b3fa9d641578ca69007'), ('IS_A', 'daaf6828235340b4a1545cb55f738101')]\n",
      "graphiti_core.graphiti - INFO - Extracted edges: [('INTERESTED_IN', '75212f2c6d3b44c7911bf3dbcf719e4b')]\n",
      "httpx - INFO - HTTP Request: POST https://api.openai.com/v1/chat/completions \"HTTP/1.1 200 OK\"\n",
      "graphiti_core.utils.maintenance.edge_operations - INFO - Extracted unique edges: [{'uuid': '75212f2c6d3b44c7911bf3dbcf719e4b'}]\n",
      "httpx - INFO - HTTP Request: POST https://api.openai.com/v1/chat/completions \"HTTP/1.1 200 OK\"\n",
      "graphiti_core.utils.maintenance.temporal_operations - INFO - Edge date extraction explanation: The fact 'Jess is interested in buying a pair of shoes' does not contain any explicit temporal information related to the establishment or change of the relationship. Therefore, no dates can be extracted or inferred for the valid_at or invalid_at fields.\n",
      "httpx - INFO - HTTP Request: POST https://api.openai.com/v1/chat/completions \"HTTP/1.1 200 OK\"\n",
      "graphiti_core.utils.maintenance.temporal_operations - INFO - Edge date extraction explanation: The fact provided does not include any temporal information related to the establishment or change of the relationship. Therefore, both valid_at and invalid_at are set to null.\n",
      "httpx - INFO - HTTP Request: POST https://api.openai.com/v1/chat/completions \"HTTP/1.1 200 OK\"\n",
      "graphiti_core.utils.maintenance.temporal_operations - INFO - Edge date extraction explanation: The fact 'Women's Tree Breezers Knit - Rugged Beige (Hazy Beige Sole) has half-size options' does not contain any explicit temporal information related to the establishment or change of the relationship. Therefore, both valid_at and invalid_at are set to null.\n",
      "httpx - INFO - HTTP Request: POST https://api.openai.com/v1/chat/completions \"HTTP/1.1 200 OK\"\n",
      "graphiti_core.utils.maintenance.temporal_operations - INFO - Edge date extraction explanation: The fact 'TinyBirds Wool Runners are a type of Shoes' does not contain any explicit temporal information related to the establishment or change of the relationship. Therefore, no dates can be extracted or inferred for the valid_at or invalid_at fields.\n",
      "httpx - INFO - HTTP Request: POST https://api.openai.com/v1/chat/completions \"HTTP/1.1 200 OK\"\n",
      "graphiti_core.utils.maintenance.temporal_operations - INFO - Edge date extraction explanation: The fact 'Men's Couriers - Natural Black/Basin Blue (Blizzard Sole) is available in multiple sizes' does not contain any explicit temporal information related to the establishment or change of the relationship. Therefore, both valid_at and invalid_at are set to null.\n",
      "httpx - INFO - HTTP Request: POST https://api.openai.com/v1/chat/completions \"HTTP/1.1 200 OK\"\n",
      "graphiti_core.utils.maintenance.temporal_operations - INFO - Edge date extraction explanation: The fact 'Men's Couriers - Natural Black/Basin Blue (Blizzard Sole) is a type of Shoes' does not contain any explicit temporal information related to the establishment or change of the relationship. Therefore, both valid_at and invalid_at are set to null.\n",
      "httpx - INFO - HTTP Request: POST https://api.openai.com/v1/chat/completions \"HTTP/1.1 200 OK\"\n",
      "graphiti_core.graphiti - INFO - Invalidated edges: []\n",
      "graphiti_core.graphiti - INFO - Edge touched nodes: [('jess', '4a3280321c654ed2a9108f2f30eb515c'), ('Shoes', '64ef662d27234a058365266fda6f3ba8')]\n",
      "graphiti_core.graphiti - INFO - Deduped edges: [('INTERESTED_IN', '75212f2c6d3b44c7911bf3dbcf719e4b')]\n",
      "graphiti_core.graphiti - INFO - Built episodic edges: [EpisodicEdge(uuid='2359505bf51e4ce78791986f204996bd', source_node_uuid='402475398a7c453093f0cafeab1f0e49', target_node_uuid='4a3280321c654ed2a9108f2f30eb515c', created_at=datetime.datetime(2024, 9, 1, 10, 22, 58, 709901)), EpisodicEdge(uuid='6bb2172669eb43c3be2a9d4adf46a296', source_node_uuid='402475398a7c453093f0cafeab1f0e49', target_node_uuid='64ef662d27234a058365266fda6f3ba8', created_at=datetime.datetime(2024, 9, 1, 10, 22, 58, 709901))]\n",
      "graphiti_core.nodes - INFO - Saved Node to neo4j: 402475398a7c453093f0cafeab1f0e49\n",
      "graphiti_core.nodes - INFO - Saved Node to neo4j: 64ef662d27234a058365266fda6f3ba8\n",
      "graphiti_core.nodes - INFO - Saved Node to neo4j: 4a3280321c654ed2a9108f2f30eb515c\n",
      "graphiti_core.edges - INFO - Saved edge to neo4j: 2359505bf51e4ce78791986f204996bd\n",
      "graphiti_core.edges - INFO - Saved edge to neo4j: 6bb2172669eb43c3be2a9d4adf46a296\n",
      "graphiti_core.edges - INFO - Saved edge to neo4j: daaf6828235340b4a1545cb55f738101\n",
      "graphiti_core.edges - INFO - Saved edge to neo4j: a26165c482e04e78893115dbbc8d0d57\n",
      "graphiti_core.edges - INFO - Saved edge to neo4j: 11ffcd26fd10498da91d5e050bb03bda\n",
      "graphiti_core.edges - INFO - Saved edge to neo4j: 0ddac5104ccd4b3fa9d641578ca69007\n",
      "graphiti_core.edges - INFO - Saved edge to neo4j: 2f3e82a8f10246f28997e2927cc3a9a7\n",
      "graphiti_core.edges - INFO - Saved edge to neo4j: 75212f2c6d3b44c7911bf3dbcf719e4b\n",
      "graphiti_core.graphiti - INFO - Completed add_episode in 14431.047916412354 ms\n",
      "httpx - INFO - HTTP Request: POST https://api.openai.com/v1/embeddings \"HTTP/1.1 200 OK\"\n",
      "graphiti_core.search.search_utils - INFO - Found relevant nodes: {'3c88a5a96ad9409fbfd3815a4fadd511', '32aa20926ba0446cb137cd869a88825a', '9428fffb3e00470793d296833cb71d38', '1e4f79c6bd794f538beb1c20e3878ddb', '4a3280321c654ed2a9108f2f30eb515c', '3989f213ae624713876262e7ddc38d96', 'baedfa06983846928d7f3615dd175e5f', 'f447d9e273c24dfea723827ab50a455b', '29e91fd8ccf74b71a7b20d4ad3ba666a'} in 9.289026260375977 ms\n",
      "httpx - INFO - HTTP Request: POST https://api.openai.com/v1/embeddings \"HTTP/1.1 200 OK\"\n",
      "graphiti_core.search.search_utils - INFO - Found relevant nodes: {'e4e6a0394f1c41b99c0afaf69960a901', '5eff8599f7f54b13a40160fc6058c606', '9d45cfe26aaa4eaa8ccf3840c86cd530', 'bc4e6e9fef1349108e02c692936ea34f', 'f580d88db47441b6aa529ffdd389bc30', '5401ee3aa5c640a392bfbb82d39aef68', 'a62aeec7d6f8463db1ece9490b4cd172', 'c6dd35b558434c49a1af8970b6627375', 'd104746ac88543b4a4b1617540f09f55', 'd32b35deaffe4a98af175e8ac32201df', '241c692d4a1c42d98a2881ae7d1e2dd1'} in 18.03898811340332 ms\n"
     ]
    }
   ],
   "source": [
    "user_name = 'jess'\n",
    "\n",
    "await client.add_episode(\n",
    "    name='User Creation',\n",
    "    episode_body=(f'{user_name} is interested in buying a pair of shoes'),\n",
    "    source=EpisodeType.text,\n",
    "    reference_time=datetime.now(),\n",
    "    source_description='SalesBot',\n",
    ")\n",
    "\n",
    "# let's get Jess's node uuid\n",
    "nl = await client.get_nodes_by_query(user_name)\n",
    "\n",
    "user_node_uuid = nl[0].uuid\n",
    "\n",
    "# and the ManyBirds node uuid\n",
    "nl = await client.get_nodes_by_query('ManyBirds')\n",
    "manybirds_node_uuid = nl[0].uuid"
   ]
  },
  {
   "cell_type": "code",
   "execution_count": null,
   "metadata": {},
   "outputs": [],
   "source": [
    "def edges_to_facts_string(entities: list[EntityEdge]):\n",
    "    return '-' + '\\n- '.join([edge.fact for edge in entities])"
   ]
  },
  {
   "cell_type": "code",
   "execution_count": null,
   "metadata": {},
   "outputs": [],
   "source": [
    "from langchain_core.messages import AIMessage, SystemMessage\n",
    "from langchain_core.tools import tool\n",
    "from langchain_openai import ChatOpenAI\n",
    "from langgraph.checkpoint.memory import MemorySaver\n",
    "from langgraph.graph import END, START, StateGraph, add_messages\n",
    "from langgraph.prebuilt import ToolNode"
   ]
  },
  {
   "cell_type": "markdown",
   "metadata": {},
   "source": [
    "## `get_shoe_data` Tool\n",
    "\n",
    "The agent will use this to search the Graphiti graph for information about shoes. We center the search on the `manybirds_node_uuid` to ensure we rank shoe-related data over user data.\n"
   ]
  },
  {
   "cell_type": "code",
   "execution_count": null,
   "metadata": {},
   "outputs": [],
   "source": [
    "@tool\n",
    "async def get_shoe_data(query: str) -> str:\n",
    "    \"\"\"Search the graphiti graph for information about shoes\"\"\"\n",
    "    edge_results = await client.search(\n",
    "        query,\n",
    "        center_node_uuid=manybirds_node_uuid,\n",
    "        num_results=10,\n",
    "    )\n",
    "    return edges_to_facts_string(edge_results)\n",
    "\n",
    "\n",
    "tools = [get_shoe_data]\n",
    "tool_node = ToolNode(tools)"
   ]
  },
  {
   "cell_type": "code",
   "execution_count": null,
   "metadata": {},
   "outputs": [],
   "source": [
    "llm = ChatOpenAI(model='gpt-4o-mini', temperature=0).bind_tools(tools)"
   ]
  },
  {
   "cell_type": "code",
   "execution_count": null,
   "metadata": {},
   "outputs": [
    {
     "name": "stdout",
     "output_type": "stream",
     "text": [
      "httpx - INFO - HTTP Request: POST https://api.openai.com/v1/chat/completions \"HTTP/1.1 200 OK\"\n",
      "httpx - INFO - HTTP Request: POST https://api.openai.com/v1/embeddings \"HTTP/1.1 200 OK\"\n",
      "graphiti_core.search.search - INFO - search returned context for query wool shoes in 245.83101272583008 ms\n"
     ]
    },
    {
     "data": {
      "text/plain": [
       "{'messages': [ToolMessage(content=\"-TinyBirds Wool Runners are a type of Shoes.\\n- Men's SuperLight Wool Runners - Dark Grey (Medium Grey Sole) is made of Wool.\\n- Men's SuperLight Wool Runners - Dark Grey (Medium Grey Sole) is a type of Shoes.\\n- Jess is interested in buying a pair of shoes.\\n- Men's SuperLight Wool Runners - Dark Grey (Medium Grey Sole) uses SuperLight Foam technology.\\n- Women's Tree Breezers Knit - Rugged Beige (Hazy Beige Sole) is a type of Shoes.\\n- TinyBirds Wool Runners are sold by Manybirds.\\n- Men's SuperLight Wool Runners - Dark Grey (Medium Grey Sole) has a Runner style.\\n- Men's Couriers - Natural Black/Basin Blue (Blizzard Sole) is a type of Shoes.\\n- Men's Couriers - Natural Black/Basin Blue (Blizzard Sole) is available in multiple sizes.\", name='get_shoe_data', tool_call_id='call_sdHREDengtblO1nXJYnRdSS2')]}"
      ]
     },
     "execution_count": 12,
     "metadata": {},
     "output_type": "execute_result"
    }
   ],
   "source": [
    "# Test the tool node\n",
    "await tool_node.ainvoke({'messages': [await llm.ainvoke('wool shoes')]})"
   ]
  },
  {
   "cell_type": "markdown",
   "metadata": {},
   "source": [
    "## Chatbot Function Explanation\n",
    "\n",
    "The chatbot uses Graphiti to provide context-aware responses in a shoe sales scenario. Here's how it works:\n",
    "\n",
    "1. **Context Retrieval**: It searches the Graphiti graph for relevant information based on the latest message, using the user's node as the center point. This ensures that user-related facts are ranked higher than other information in the graph.\n",
    "\n",
    "2. **System Message**: It constructs a system message incorporating facts from Graphiti, setting the context for the AI's response.\n",
    "\n",
    "3. **Knowledge Persistence**: After generating a response, it asynchronously adds the interaction to the Graphiti graph, allowing future queries to reference this conversation.\n",
    "\n",
    "This approach enables the chatbot to maintain context across interactions and provide personalized responses based on the user's history and preferences stored in the Graphiti graph."
   ]
  },
  {
   "cell_type": "code",
   "execution_count": null,
   "metadata": {},
   "outputs": [],
   "source": [
    "class State(TypedDict):\n",
    "    messages: Annotated[list, add_messages]\n",
    "    user_name: str\n",
    "    user_node_uuid: str\n",
    "\n",
    "\n",
    "async def chatbot(state: State):\n",
    "    facts_string = None\n",
    "    if len(state['messages']) > 0:\n",
    "        last_message = state['messages'][-1]\n",
    "        graphiti_query = f'{\"SalesBot\" if isinstance(last_message, AIMessage) else state[\"user_name\"]}: {last_message.content}'\n",
    "        # search graphiti using Jess's node uuid as the center node\n",
    "        # graph edges (facts) further from the Jess node will be ranked lower\n",
    "        edge_results = await client.search(\n",
    "            graphiti_query, center_node_uuid=state['user_node_uuid'], num_results=5\n",
    "        )\n",
    "        facts_string = edges_to_facts_string(edge_results)\n",
    "\n",
    "    system_message = SystemMessage(\n",
    "        content=f\"\"\"You are a skillfull shoe salesperson working for ManyBirds. Review information about the user and their prior conversation below and respond accordingly.\n",
    "        Keep responses short and concise. And remember, always be selling (and helpful!)\n",
    "\n",
    "        Things you'll need to know about the user in order to close a sale:\n",
    "        - the user's shoe size\n",
    "        - any other shoe needs? maybe for wide feet?\n",
    "        - the user's preferred colors and styles\n",
    "        - their budget\n",
    "\n",
    "        Ensure that you ask the user for the above if you don't already know.\n",
    "\n",
    "        Facts about the user and their conversation:\n",
    "        {facts_string or 'No facts about the user and their conversation'}\"\"\"\n",
    "    )\n",
    "\n",
    "    messages = [system_message] + state['messages']\n",
    "\n",
    "    response = await llm.ainvoke(messages)\n",
    "\n",
    "    # add the response to the graphiti graph.\n",
    "    # this will allow us to use the graphiti search later in the conversation\n",
    "    # we're doing async here to avoid blocking the graph execution\n",
    "    asyncio.create_task(\n",
    "        client.add_episode(\n",
    "            name='Chatbot Response',\n",
    "            episode_body=f\"{state['user_name']}: {state['messages'][-1]}\\nSalesBot: {response.content}\",\n",
    "            source=EpisodeType.message,\n",
    "            reference_time=datetime.now(),\n",
    "            source_description='Chatbot',\n",
    "        )\n",
    "    )\n",
    "\n",
    "    return {'messages': [response]}"
   ]
  },
  {
   "cell_type": "markdown",
   "metadata": {},
   "source": [
    "## Setting up the Agent\n",
    "\n",
    "This section sets up the Agent's LangGraph graph:\n",
    "\n",
    "1. **Graph Structure**: It defines a graph with nodes for the agent (chatbot) and tools, connected in a loop.\n",
    "\n",
    "2. **Conditional Logic**: The `should_continue` function determines whether to end the graph execution or continue to the tools node based on the presence of tool calls.\n",
    "\n",
    "3. **Memory Management**: It uses a MemorySaver to maintain conversation state across turns. This is in addition to using Graphiti for facts."
   ]
  },
  {
   "cell_type": "code",
   "execution_count": null,
   "metadata": {},
   "outputs": [],
   "source": [
    "graph_builder = StateGraph(State)\n",
    "\n",
    "memory = MemorySaver()\n",
    "\n",
    "\n",
    "# Define the function that determines whether to continue or not\n",
    "async def should_continue(state, config):\n",
    "    messages = state['messages']\n",
    "    last_message = messages[-1]\n",
    "    # If there is no function call, then we finish\n",
    "    if not last_message.tool_calls:\n",
    "        return 'end'\n",
    "    # Otherwise if there is, we continue\n",
    "    else:\n",
    "        return 'continue'\n",
    "\n",
    "\n",
    "graph_builder.add_node('agent', chatbot)\n",
    "graph_builder.add_node('tools', tool_node)\n",
    "\n",
    "graph_builder.add_edge(START, 'agent')\n",
    "graph_builder.add_conditional_edges('agent', should_continue, {'continue': 'tools', 'end': END})\n",
    "graph_builder.add_edge('tools', 'agent')\n",
    "\n",
    "\n",
    "graph = graph_builder.compile(checkpointer=memory)"
   ]
  },
  {
   "cell_type": "markdown",
   "metadata": {},
   "source": [
    "Our LangGraph agent graph is illustrated below."
   ]
  },
  {
   "cell_type": "code",
   "execution_count": null,
   "metadata": {},
   "outputs": [
    {
     "data": {
      "image/jpeg": "[encoded data removed]",
      "text/plain": [
       "<IPython.core.display.Image object>"
      ]
     },
     "metadata": {},
     "output_type": "display_data"
    }
   ],
   "source": [
    "with suppress(Exception):\n",
    "    display(Image(graph.get_graph().draw_mermaid_png()))"
   ]
  },
  {
   "cell_type": "markdown",
   "metadata": {},
   "source": [
    "## Running the Agent\n",
    "\n",
    "Let's test the agent with a single call"
   ]
  },
  {
   "cell_type": "code",
   "execution_count": null,
   "metadata": {},
   "outputs": [
    {
     "name": "stdout",
     "output_type": "stream",
     "text": [
      "httpx - INFO - HTTP Request: POST https://api.openai.com/v1/embeddings \"HTTP/1.1 200 OK\"\n",
      "graphiti_core.search.search - INFO - search returned context for query jess: What sizes do the TinyBirds Wool Runners in Natural Black come in? in 245.67198753356934 ms\n",
      "httpx - INFO - HTTP Request: POST https://api.openai.com/v1/chat/completions \"HTTP/1.1 200 OK\"\n"
     ]
    },
    {
     "data": {
      "text/plain": [
       "{'messages': [HumanMessage(content='What sizes do the TinyBirds Wool Runners in Natural Black come in?', id='27dcd1c7-3543-49df-9e53-a884c9376318'),\n",
       "  AIMessage(content=\"The TinyBirds Wool Runners in Natural Black are available in size variants 6T, 7T, and 9T. \\n\\nDo you know your shoe size? Also, are you looking for any specific colors or styles, and what's your budget? I’d love to help you find the perfect pair!\", additional_kwargs={'refusal': None}, response_metadata={'token_usage': {'completion_tokens': 65, 'prompt_tokens': 264, 'total_tokens': 329}, 'model_name': 'gpt-4o-mini-2024-07-18', 'system_fingerprint': 'fp_f33667828e', 'finish_reason': 'stop', 'logprobs': None}, id='run-f3ab33f2-bdab-4fdf-8fe1-7497302eb922-0', usage_metadata={'input_tokens': 264, 'output_tokens': 65, 'total_tokens': 329})],\n",
       " 'user_name': 'jess',\n",
       " 'user_node_uuid': '4a3280321c654ed2a9108f2f30eb515c'}"
      ]
     },
     "execution_count": 17,
     "metadata": {},
     "output_type": "execute_result"
    },
    {
     "name": "stdout",
     "output_type": "stream",
     "text": [
      "httpx - INFO - HTTP Request: POST https://api.openai.com/v1/chat/completions \"HTTP/1.1 200 OK\"\n",
      "graphiti_core.utils.maintenance.node_operations - INFO - Extracted new nodes: [{'name': 'jess', 'labels': ['Entity', 'Speaker'], 'summary': 'Jess is the speaker inquiring about the sizes available for the TinyBirds Wool Runners in Natural Black.'}, {'name': 'SalesBot', 'labels': ['Entity', 'Speaker'], 'summary': \"SalesBot is the automated assistant responding to Jess's inquiry about shoe sizes and offering further assistance.\"}, {'name': 'TinyBirds Wool Runners', 'labels': ['Entity', 'Product'], 'summary': 'A type of shoe that Jess is interested in, specifically in the Natural Black color.'}, {'name': 'Natural Black', 'labels': ['Entity', 'Color'], 'summary': 'The color variant of the TinyBirds Wool Runners that Jess is inquiring about.'}] in 2555.851936340332 ms\n",
      "graphiti_core.utils.maintenance.node_operations - INFO - Created new node: jess (UUID: a94887634375424cbcc7831a949792cb)\n",
      "graphiti_core.utils.maintenance.node_operations - INFO - Created new node: SalesBot (UUID: e32bcf1dd902482b92783c26a0713368)\n",
      "graphiti_core.utils.maintenance.node_operations - INFO - Created new node: TinyBirds Wool Runners (UUID: 8a5e1e88d30243ddb8a86f9c9ed4e308)\n",
      "graphiti_core.utils.maintenance.node_operations - INFO - Created new node: Natural Black (UUID: 7ed2e84d2b8640c1a9e8e7d339bc784f)\n",
      "graphiti_core.graphiti - INFO - Extracted nodes: [('jess', 'a94887634375424cbcc7831a949792cb'), ('SalesBot', 'e32bcf1dd902482b92783c26a0713368'), ('TinyBirds Wool Runners', '8a5e1e88d30243ddb8a86f9c9ed4e308'), ('Natural Black', '7ed2e84d2b8640c1a9e8e7d339bc784f')]\n",
      "httpx - INFO - HTTP Request: POST https://api.openai.com/v1/embeddings \"HTTP/1.1 200 OK\"\n",
      "graphiti_core.nodes - INFO - embedded Natural Black in 0.14015507698059082 ms\n",
      "httpx - INFO - HTTP Request: POST https://api.openai.com/v1/embeddings \"HTTP/1.1 200 OK\"\n",
      "graphiti_core.nodes - INFO - embedded TinyBirds Wool Runners in 0.14754199981689453 ms\n",
      "httpx - INFO - HTTP Request: POST https://api.openai.com/v1/embeddings \"HTTP/1.1 200 OK\"\n",
      "graphiti_core.nodes - INFO - embedded jess in 0.2812972068786621 ms\n",
      "httpx - INFO - HTTP Request: POST https://api.openai.com/v1/embeddings \"HTTP/1.1 200 OK\"\n",
      "graphiti_core.nodes - INFO - embedded SalesBot in 0.31877803802490234 ms\n",
      "graphiti_core.search.search_utils - INFO - Found relevant nodes: {'9428fffb3e00470793d296833cb71d38', '1e4f79c6bd794f538beb1c20e3878ddb', '29e91fd8ccf74b71a7b20d4ad3ba666a', '5eff8599f7f54b13a40160fc6058c606', 'f580d88db47441b6aa529ffdd389bc30', 'a62aeec7d6f8463db1ece9490b4cd172', '528204a68b5d4e22aa2748603ebea849', '4a3280321c654ed2a9108f2f30eb515c', 'be8521b8a3e84cc694766e2bf31a9435', '26a192e56186439f9b07c9aac1597322', '45907c6efeff47f88f8c333278fcb67a', '3c88a5a96ad9409fbfd3815a4fadd511', 'd534a35e60604db6803be56c713fbaa3', '32aa20926ba0446cb137cd869a88825a', '3989f213ae624713876262e7ddc38d96', 'baedfa06983846928d7f3615dd175e5f', 'df089d2dd1c942caa4b73a277c3bcde8', 'ef1ac20381474a5fb8e4be9d7d44a047', 'e4e6a0394f1c41b99c0afaf69960a901', '9d45cfe26aaa4eaa8ccf3840c86cd530', 'bc4e6e9fef1349108e02c692936ea34f', '4172cd8604e34bd08219af3982dfbd15', 'd32b35deaffe4a98af175e8ac32201df', '4e0b432a110146e5906d7d3af42adc77', 'f447d9e273c24dfea723827ab50a455b'} in 22.552013397216797 ms\n",
      "graphiti_core.graphiti - INFO - Extracted nodes: [('jess', 'a94887634375424cbcc7831a949792cb'), ('SalesBot', 'e32bcf1dd902482b92783c26a0713368'), ('TinyBirds Wool Runners', '8a5e1e88d30243ddb8a86f9c9ed4e308'), ('Natural Black', '7ed2e84d2b8640c1a9e8e7d339bc784f')]\n",
      "httpx - INFO - HTTP Request: POST https://api.openai.com/v1/chat/completions \"HTTP/1.1 200 OK\"\n",
      "graphiti_core.utils.maintenance.node_operations - INFO - Deduplicated nodes: [{'name': 'jess', 'duplicate_of': 'jess'}, {'name': 'SalesBot', 'duplicate_of': 'SalesBot'}, {'name': 'TinyBirds Wool Runners', 'duplicate_of': 'TinyBirds Wool Runners'}] in 1465.6927585601807 ms\n",
      "graphiti_core.graphiti - INFO - Adjusted touched nodes: [('jess', '4a3280321c654ed2a9108f2f30eb515c'), ('SalesBot', '4172cd8604e34bd08219af3982dfbd15'), ('TinyBirds Wool Runners', 'be8521b8a3e84cc694766e2bf31a9435'), ('Natural Black', '7ed2e84d2b8640c1a9e8e7d339bc784f')]\n",
      "httpx - INFO - HTTP Request: POST https://api.openai.com/v1/chat/completions \"HTTP/1.1 200 OK\"\n",
      "graphiti_core.utils.maintenance.edge_operations - INFO - Extracted new edges: [{'relation_type': 'INQUIRES_ABOUT', 'source_node_uuid': '4a3280321c654ed2a9108f2f30eb515c', 'target_node_uuid': 'be8521b8a3e84cc694766e2bf31a9435', 'fact': 'Jess inquires about the available sizes of TinyBirds Wool Runners.', 'valid_at': None, 'invalid_at': None}, {'relation_type': 'INQUIRES_ABOUT', 'source_node_uuid': '4a3280321c654ed2a9108f2f30eb515c', 'target_node_uuid': '7ed2e84d2b8640c1a9e8e7d339bc784f', 'fact': 'Jess inquires about the available sizes of TinyBirds Wool Runners in Natural Black.', 'valid_at': None, 'invalid_at': None}, {'relation_type': 'RESPONDS_TO', 'source_node_uuid': '4172cd8604e34bd08219af3982dfbd15', 'target_node_uuid': '4a3280321c654ed2a9108f2f30eb515c', 'fact': \"SalesBot responds to Jess's inquiry about the sizes of TinyBirds Wool Runners in Natural Black.\", 'valid_at': None, 'invalid_at': None}] in 4094.4719314575195 ms\n",
      "graphiti_core.utils.maintenance.edge_operations - INFO - Created new edge: INQUIRES_ABOUT from (UUID: 4a3280321c654ed2a9108f2f30eb515c) to (UUID: be8521b8a3e84cc694766e2bf31a9435)\n",
      "graphiti_core.utils.maintenance.edge_operations - INFO - Created new edge: INQUIRES_ABOUT from (UUID: 4a3280321c654ed2a9108f2f30eb515c) to (UUID: 7ed2e84d2b8640c1a9e8e7d339bc784f)\n",
      "graphiti_core.utils.maintenance.edge_operations - INFO - Created new edge: RESPONDS_TO from (UUID: 4172cd8604e34bd08219af3982dfbd15) to (UUID: 4a3280321c654ed2a9108f2f30eb515c)\n",
      "httpx - INFO - HTTP Request: POST https://api.openai.com/v1/embeddings \"HTTP/1.1 200 OK\"\n",
      "httpx - INFO - HTTP Request: POST https://api.openai.com/v1/embeddings \"HTTP/1.1 200 OK\"\n",
      "httpx - INFO - HTTP Request: POST https://api.openai.com/v1/embeddings \"HTTP/1.1 200 OK\"\n",
      "graphiti_core.edges - INFO - embedded SalesBot responds to Jess's inquiry about the sizes of TinyBirds Wool Runners in Natural Black. in 0.1755530834197998 ms\n",
      "graphiti_core.edges - INFO - embedded Jess inquires about the available sizes of TinyBirds Wool Runners in Natural Black. in 0.17864394187927246 ms\n",
      "graphiti_core.edges - INFO - embedded Jess inquires about the available sizes of TinyBirds Wool Runners. in 0.19060015678405762 ms\n",
      "graphiti_core.search.search_utils - INFO - Found relevant edges: {'1beb0cc31be142548d678af6c4178f15', 'd6e8b65d68f84f8daaf4e814895e0c24', '2f3e82a8f10246f28997e2927cc3a9a7', '0ddac5104ccd4b3fa9d641578ca69007', '6add7a11fa9041e0bbd95de92d5bd281'} in 30.358076095581055 ms\n",
      "graphiti_core.graphiti - INFO - Existing edges: [('INQUIRES_ABOUT', '1beb0cc31be142548d678af6c4178f15'), ('PROVIDES_INFORMATION_ON', '6add7a11fa9041e0bbd95de92d5bd281'), ('HAS_SIZE_VARIANT', 'd6e8b65d68f84f8daaf4e814895e0c24'), ('IS_A_TYPE_OF', '2f3e82a8f10246f28997e2927cc3a9a7'), ('HAS_SIZE', '0ddac5104ccd4b3fa9d641578ca69007')]\n",
      "graphiti_core.graphiti - INFO - Extracted edges: [('INQUIRES_ABOUT', '2f2121603771474c9f3e25fb5af50eea'), ('INQUIRES_ABOUT', '74767851e9f94576a9152f45fe867c36'), ('RESPONDS_TO', '9ae69e56498f4881ac91367cadee829b')]\n",
      "httpx - INFO - HTTP Request: POST https://api.openai.com/v1/chat/completions \"HTTP/1.1 200 OK\"\n",
      "graphiti_core.utils.maintenance.edge_operations - INFO - Extracted unique edges: [{'uuid': '74767851e9f94576a9152f45fe867c36'}, {'uuid': '9ae69e56498f4881ac91367cadee829b'}]\n",
      "httpx - INFO - HTTP Request: POST https://api.openai.com/v1/chat/completions \"HTTP/1.1 200 OK\"\n",
      "graphiti_core.utils.maintenance.temporal_operations - INFO - Edge date extraction explanation: The fact 'Jess inquires about the available sizes of TinyBirds Wool Runners in Natural Black' does not contain any explicit temporal information related to the establishment or change of the relationship. Therefore, both valid_at and invalid_at are set to null.\n",
      "httpx - INFO - HTTP Request: POST https://api.openai.com/v1/chat/completions \"HTTP/1.1 200 OK\"\n",
      "graphiti_core.utils.maintenance.temporal_operations - INFO - Edge date extraction explanation: The edge fact describes a response from SalesBot to Jess's inquiry, but there is no explicit temporal information provided in the fact that establishes or changes the relationship. Therefore, both valid_at and invalid_at are set to null.\n",
      "httpx - INFO - HTTP Request: POST https://api.openai.com/v1/chat/completions \"HTTP/1.1 200 OK\"\n",
      "graphiti_core.utils.maintenance.temporal_operations - INFO - Edge date extraction explanation: The fact 'Jess is inquiring about the TinyBirds Wool Runners' does not contain any explicit temporal information related to the establishment or change of the relationship. Therefore, no dates can be extracted or inferred for the valid_at or invalid_at fields.\n",
      "httpx - INFO - HTTP Request: POST https://api.openai.com/v1/chat/completions \"HTTP/1.1 200 OK\"\n",
      "graphiti_core.utils.maintenance.temporal_operations - INFO - Edge date extraction explanation: The fact 'SalesBot provides information on the available sizes of TinyBirds Wool Runners' does not include any explicit temporal information regarding when this relationship was established or changed. Therefore, both 'valid_at' and 'invalid_at' are set to null as there are no dates directly related to the formation or alteration of the relationship.\n",
      "httpx - INFO - HTTP Request: POST https://api.openai.com/v1/chat/completions \"HTTP/1.1 200 OK\"\n",
      "graphiti_core.utils.maintenance.temporal_operations - INFO - Edge date extraction explanation: The fact states that TinyBirds Wool Runners have a size variant 6T, but there is no temporal information provided in the fact or conversation that indicates when this relationship was established or changed. Therefore, both valid_at and invalid_at are set to null.\n",
      "httpx - INFO - HTTP Request: POST https://api.openai.com/v1/chat/completions \"HTTP/1.1 200 OK\"\n",
      "graphiti_core.utils.maintenance.temporal_operations - INFO - Edge date extraction explanation: The fact 'TinyBirds Wool Runners are a type of Shoes' does not include any explicit temporal information regarding when this relationship was established or changed. Therefore, both 'valid_at' and 'invalid_at' are set to null as there are no dates directly related to the formation or alteration of the relationship.\n",
      "httpx - INFO - HTTP Request: POST https://api.openai.com/v1/chat/completions \"HTTP/1.1 200 OK\"\n",
      "graphiti_core.utils.maintenance.temporal_operations - INFO - Edge date extraction explanation: The fact states that the Men's Couriers - Natural Black/Basin Blue (Blizzard Sole) is available in multiple sizes, but there is no explicit date or time information provided in the fact that indicates when this relationship was established or changed. Therefore, both valid_at and invalid_at are set to null.\n",
      "httpx - INFO - HTTP Request: POST https://api.openai.com/v1/chat/completions \"HTTP/1.1 200 OK\"\n",
      "graphiti_core.graphiti - INFO - Invalidated edges: []\n",
      "graphiti_core.graphiti - INFO - Edge touched nodes: [('jess', '4a3280321c654ed2a9108f2f30eb515c'), ('SalesBot', '4172cd8604e34bd08219af3982dfbd15'), ('Natural Black', '7ed2e84d2b8640c1a9e8e7d339bc784f')]\n",
      "graphiti_core.graphiti - INFO - Deduped edges: [('INQUIRES_ABOUT', '74767851e9f94576a9152f45fe867c36'), ('RESPONDS_TO', '9ae69e56498f4881ac91367cadee829b')]\n",
      "graphiti_core.graphiti - INFO - Built episodic edges: [EpisodicEdge(uuid='cc6830bef8784d179d22f714e00ef7e1', source_node_uuid='3d5a72eebb1d4aa5991aaeefc9902a17', target_node_uuid='4a3280321c654ed2a9108f2f30eb515c', created_at=datetime.datetime(2024, 9, 1, 10, 42, 11, 650072)), EpisodicEdge(uuid='03dea732438245e9b85cd181e3c86c07', source_node_uuid='3d5a72eebb1d4aa5991aaeefc9902a17', target_node_uuid='4172cd8604e34bd08219af3982dfbd15', created_at=datetime.datetime(2024, 9, 1, 10, 42, 11, 650072)), EpisodicEdge(uuid='5ad627eca20548fd842618302325bc05', source_node_uuid='3d5a72eebb1d4aa5991aaeefc9902a17', target_node_uuid='7ed2e84d2b8640c1a9e8e7d339bc784f', created_at=datetime.datetime(2024, 9, 1, 10, 42, 11, 650072))]\n",
      "graphiti_core.nodes - INFO - Saved Node to neo4j: 3d5a72eebb1d4aa5991aaeefc9902a17\n",
      "graphiti_core.nodes - INFO - Saved Node to neo4j: 4a3280321c654ed2a9108f2f30eb515c\n",
      "graphiti_core.nodes - INFO - Saved Node to neo4j: 4172cd8604e34bd08219af3982dfbd15\n",
      "graphiti_core.nodes - INFO - Saved Node to neo4j: be8521b8a3e84cc694766e2bf31a9435\n",
      "graphiti_core.nodes - INFO - Saved Node to neo4j: 7ed2e84d2b8640c1a9e8e7d339bc784f\n",
      "graphiti_core.edges - INFO - Saved edge to neo4j: 5ad627eca20548fd842618302325bc05\n",
      "graphiti_core.edges - INFO - Saved edge to neo4j: 03dea732438245e9b85cd181e3c86c07\n",
      "graphiti_core.edges - INFO - Saved edge to neo4j: cc6830bef8784d179d22f714e00ef7e1\n",
      "graphiti_core.edges - INFO - Saved edge to neo4j: 1beb0cc31be142548d678af6c4178f15\n",
      "graphiti_core.edges - INFO - Saved edge to neo4j: 6add7a11fa9041e0bbd95de92d5bd281\n",
      "graphiti_core.edges - INFO - Saved edge to neo4j: d6e8b65d68f84f8daaf4e814895e0c24\n",
      "graphiti_core.edges - INFO - Saved edge to neo4j: 2f3e82a8f10246f28997e2927cc3a9a7\n",
      "graphiti_core.edges - INFO - Saved edge to neo4j: 0ddac5104ccd4b3fa9d641578ca69007\n",
      "graphiti_core.edges - INFO - Saved edge to neo4j: 74767851e9f94576a9152f45fe867c36\n",
      "graphiti_core.edges - INFO - Saved edge to neo4j: 9ae69e56498f4881ac91367cadee829b\n",
      "graphiti_core.graphiti - INFO - Completed add_episode in 19686.161041259766 ms\n"
     ]
    }
   ],
   "source": [
    "await graph.ainvoke(\n",
    "    {\n",
    "        'messages': [\n",
    "            {'role': 'user', 'content': 'What sizes do the TinyBirds Wool Runners in Natural Black come in?'}\n",
    "        ],\n",
    "        'user_name': user_name,\n",
    "        'user_node_uuid': user_node_uuid,\n",
    "    },\n",
    "    config={'configurable': {'thread_id': uuid.uuid4().hex}},\n",
    ")"
   ]
  },
  {
   "cell_type": "markdown",
   "metadata": {},
   "source": [
    "At this stage, the graph would look something like this"
   ]
  },
  {
   "cell_type": "markdown",
   "metadata": {},
   "source": [
    "The following code will run the agent in an event loop. Just enter a message into the box and click submit."
   ]
  },
  {
   "cell_type": "code",
   "execution_count": null,
   "metadata": {},
   "outputs": [],
   "source": [
    "# conversation_output = widgets.Output()\n",
    "# config = {'configurable': {'thread_id': uuid.uuid4().hex}}\n",
    "# user_state = {'user_name': user_name, 'user_node_uuid': user_node_uuid}\n",
    "\n",
    "\n",
    "# async def process_input(user_state: State, user_input: str):\n",
    "#     conversation_output.append_stdout(f'\\nUser: {user_input}\\n')\n",
    "#     conversation_output.append_stdout('\\nAssistant: ')\n",
    "\n",
    "#     graph_state = {\n",
    "#         'messages': [{'role': 'user', 'content': user_input}],\n",
    "#         'user_name': user_state['user_name'],\n",
    "#         'user_node_uuid': user_state['user_node_uuid'],\n",
    "#     }\n",
    "\n",
    "#     try:\n",
    "#         async for event in graph.astream(\n",
    "#             graph_state,\n",
    "#             config=config,\n",
    "#         ):\n",
    "#             for value in event.values():\n",
    "#                 if 'messages' in value:\n",
    "#                     last_message = value['messages'][-1]\n",
    "#                     if isinstance(last_message, AIMessage) and isinstance(\n",
    "#                         last_message.content, str\n",
    "#                     ):\n",
    "#                         conversation_output.append_stdout(last_message.content)\n",
    "#     except Exception as e:\n",
    "#         conversation_output.append_stdout(f'Error: {e}')\n",
    "\n",
    "\n",
    "# def on_submit(b):\n",
    "#     user_input = input_box.value\n",
    "#     input_box.value = ''\n",
    "#     asyncio.create_task(process_input(user_state, user_input))\n",
    "\n",
    "\n",
    "# input_box = widgets.Text(placeholder='Type your message here...')\n",
    "# submit_button = widgets.Button(description='Send')\n",
    "# submit_button.on_click(on_submit)\n",
    "\n",
    "# conversation_output.append_stdout('Asssistant: Hello, how can I help you find shoes today?')\n",
    "\n",
    "# display(widgets.VBox([input_box, submit_button, conversation_output]))"
   ]
  },
  {
   "cell_type": "markdown",
   "metadata": {},
   "source": []
  }
 ],
 "metadata": {
  "kernelspec": {
   "display_name": ".venv",
   "language": "python",
   "name": "python3"
  },
  "language_info": {
   "codemirror_mode": {
    "name": "ipython",
    "version": 3
   },
   "file_extension": ".py",
   "mimetype": "text/x-python",
   "name": "python",
   "nbconvert_exporter": "python",
   "pygments_lexer": "ipython3",
   "version": "3.12.4"
  }
 },
 "nbformat": 4,
 "nbformat_minor": 2
}
